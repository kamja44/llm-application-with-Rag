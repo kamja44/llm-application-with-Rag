{
 "cells": [
  {
   "cell_type": "markdown",
   "id": "a82349f4",
   "metadata": {},
   "source": [
    "1. 문서의 내용을 읽는다.\n",
    "2. 문서를 쪼갠다\n",
    "    - 토큰 수 초과로 답변을 생성하지 못할 수 있음\n",
    "    - 문서가 길면(인풋이 길면) 답변 생성이 오래걸림\n",
    "3. 임베딩 => 벡터 데이터베이스에 저장\n",
    "4. 질문이 있을 때, 백터 데이터베이스에 유사도 검색\n",
    "5. 유사도 검색으로 가져온 문서를 LLM에 질문과 같이 전달"
   ]
  },
  {
   "cell_type": "markdown",
   "id": "0bb203a0",
   "metadata": {},
   "source": [
    "# 1. 문서의 내용을 읽는다."
   ]
  },
  {
   "cell_type": "code",
   "execution_count": null,
   "id": "e386db5d",
   "metadata": {},
   "outputs": [],
   "source": [
    "%pip install python-docx"
   ]
  },
  {
   "cell_type": "code",
   "execution_count": null,
   "id": "3c41f4b9",
   "metadata": {},
   "outputs": [],
   "source": [
    "from docx import Document\n",
    "\n",
    "document = Document('./tax.docx')\n",
    "print(f'document == {document}')\n"
   ]
  },
  {
   "cell_type": "code",
   "execution_count": null,
   "id": "2125970a",
   "metadata": {},
   "outputs": [],
   "source": [
    "\n",
    "# document는 paragraphs 형태로 읽음\n",
    "print(f'document == {dir(document)}')\n",
    "full_text = ''\n",
    "for index, paragraph in enumerate(document.paragraphs):\n",
    "    print(f'paragraph == {paragraph.text}')\n",
    "    full_text += f'{paragraph.text}\\n'"
   ]
  },
  {
   "cell_type": "code",
   "execution_count": null,
   "id": "291d1b58",
   "metadata": {},
   "outputs": [],
   "source": [
    "full_text"
   ]
  },
  {
   "cell_type": "markdown",
   "id": "de6af7af",
   "metadata": {},
   "source": [
    "# 2. 문서를 쪼갠다."
   ]
  },
  {
   "cell_type": "code",
   "execution_count": null,
   "id": "0ee97459",
   "metadata": {},
   "outputs": [],
   "source": [
    "%pip install tiktoken"
   ]
  },
  {
   "cell_type": "code",
   "execution_count": null,
   "id": "203751ad",
   "metadata": {},
   "outputs": [],
   "source": [
    "import tiktoken\n",
    "\n",
    "encoder = tiktoken.encoding_for_model(\"gpt-4o\")\n",
    "encoding= encoder.encode(full_text)"
   ]
  },
  {
   "cell_type": "code",
   "execution_count": null,
   "id": "4d16770e",
   "metadata": {},
   "outputs": [],
   "source": [
    "len(encoding)"
   ]
  },
  {
   "cell_type": "code",
   "execution_count": null,
   "id": "d3f9da5f",
   "metadata": {},
   "outputs": [],
   "source": [
    "decoded = encoder.decode(encoding)"
   ]
  },
  {
   "cell_type": "code",
   "execution_count": null,
   "id": "a447cec4",
   "metadata": {},
   "outputs": [],
   "source": [
    "decoded"
   ]
  },
  {
   "cell_type": "code",
   "execution_count": null,
   "id": "d50f08c1",
   "metadata": {},
   "outputs": [],
   "source": [
    "import tiktoken\n",
    "\n",
    "def split_text(full_text, chunk_size):\n",
    "    encoder = tiktoken.encoding_for_model(\"gpt-4o\")\n",
    "    total_encoding = encoder.encode(full_text)\n",
    "    total_token_count = len(total_encoding)\n",
    "    text_list = []\n",
    "    for i in range(0, total_token_count, chunk_size):\n",
    "        chunk = total_encoding[i: i + chunk_size]\n",
    "        decoded = encoder.decode(chunk)\n",
    "        text_list.append(decoded)\n",
    "    return text_list"
   ]
  },
  {
   "cell_type": "code",
   "execution_count": null,
   "id": "68094c17",
   "metadata": {},
   "outputs": [],
   "source": [
    "chunk_list = split_text(full_text, 1500)"
   ]
  },
  {
   "cell_type": "code",
   "execution_count": null,
   "id": "504b0d6e",
   "metadata": {},
   "outputs": [],
   "source": [
    "chunk_list"
   ]
  },
  {
   "cell_type": "markdown",
   "id": "0707cfa1",
   "metadata": {},
   "source": [
    "# 3. 문서 임베딩"
   ]
  },
  {
   "cell_type": "code",
   "execution_count": null,
   "id": "758fd75a",
   "metadata": {},
   "outputs": [],
   "source": [
    "%pip install chromadb"
   ]
  },
  {
   "cell_type": "code",
   "execution_count": null,
   "id": "9573b5fb",
   "metadata": {},
   "outputs": [],
   "source": [
    "import chromadb\n",
    "\n",
    "chroma_client = chromadb.Client()"
   ]
  },
  {
   "cell_type": "code",
   "execution_count": null,
   "id": "346e204c",
   "metadata": {},
   "outputs": [],
   "source": [
    "# collection => table과 비슷한 개념\n",
    "collection_name = 'tax_collection'\n",
    "try:\n",
    "    chroma_client.delete_collection(collection_name)\n",
    "    print(f\"기존 컬렉션 '{collection_name}' 삭제됨\")\n",
    "except Exception as e:\n",
    "    print(f\"컬렉션 삭제 중 오류: {e}\")\n",
    "tax_collection = chroma_client.create_collection(collection_name)"
   ]
  },
  {
   "cell_type": "code",
   "execution_count": null,
   "id": "e61c37e6",
   "metadata": {},
   "outputs": [],
   "source": [
    "%pip install openai"
   ]
  },
  {
   "cell_type": "code",
   "execution_count": null,
   "id": "dc2afcbf",
   "metadata": {},
   "outputs": [],
   "source": [
    "import os\n",
    "from dotenv import load_dotenv\n",
    "from chromadb.utils.embedding_functions import OpenAIEmbeddingFunction\n",
    "\n",
    "load_dotenv()\n",
    "openai_api_key = os.getenv(\"OPENAI_API_KEY\")\n",
    "openai_embedding = OpenAIEmbeddingFunction(api_key=openai_api_key,model_name=\"text-embedding-3-large\")"
   ]
  },
  {
   "cell_type": "code",
   "execution_count": null,
   "id": "f60abaf4",
   "metadata": {},
   "outputs": [],
   "source": [
    "try:\n",
    "    chroma_client.delete_collection(collection_name)\n",
    "    print(f\"기존 컬렉션 '{collection_name}' 삭제됨\")\n",
    "except Exception as e:\n",
    "    print(f\"컬렉션 삭제 중 오류: {e}\")\n",
    "    \n",
    "tax_collection = chroma_client.get_or_create_collection(collection_name, embedding_function=openai_embedding)"
   ]
  },
  {
   "cell_type": "code",
   "execution_count": null,
   "id": "1831f36e",
   "metadata": {},
   "outputs": [],
   "source": [
    "tax_collection"
   ]
  },
  {
   "cell_type": "code",
   "execution_count": null,
   "id": "c39f31ee",
   "metadata": {},
   "outputs": [],
   "source": [
    "id_list = []\n",
    "for index in range(len(chunk_list)):\n",
    "    id_list.append(f'{index}')"
   ]
  },
  {
   "cell_type": "code",
   "execution_count": null,
   "id": "e9b4be4a",
   "metadata": {},
   "outputs": [],
   "source": [
    "len(id_list)"
   ]
  },
  {
   "cell_type": "code",
   "execution_count": null,
   "id": "4f9ecf3a",
   "metadata": {},
   "outputs": [],
   "source": [
    "len(chunk_list)"
   ]
  },
  {
   "cell_type": "code",
   "execution_count": null,
   "id": "eb51816a",
   "metadata": {},
   "outputs": [],
   "source": [
    "tax_collection.add(documents=chunk_list, ids=id_list)"
   ]
  },
  {
   "cell_type": "markdown",
   "id": "262d6721",
   "metadata": {},
   "source": [
    "# 4. 유사도 검색"
   ]
  },
  {
   "cell_type": "code",
   "execution_count": null,
   "id": "1fa3964d",
   "metadata": {},
   "outputs": [],
   "source": [
    "query='연봉 5천만원인 직장인의 소득세는 얼마인가요?'\n",
    "retrieved_doc = tax_collection.query(query_texts=query)\n",
    "retrieved_doc"
   ]
  },
  {
   "cell_type": "code",
   "execution_count": null,
   "id": "a5138b26",
   "metadata": {},
   "outputs": [],
   "source": [
    "retrieved_doc['documents'][0]"
   ]
  },
  {
   "cell_type": "markdown",
   "id": "efc611c9",
   "metadata": {},
   "source": [
    "# 5. LLM 질의"
   ]
  },
  {
   "cell_type": "code",
   "execution_count": null,
   "id": "9d0cfdfd",
   "metadata": {},
   "outputs": [],
   "source": [
    "from openai import OpenAI\n",
    "client = OpenAI()\n",
    "\n",
    "response = client.chat.completions.create(\n",
    "    model=\"gpt-4o\",\n",
    "    messages=[\n",
    "        {\"role\": \"system\", \"content\": f\"당신은 한국의 소득세 전문가입니다. 아래 내용을 참고하여 사용자의 질문에 답변해주세요 {retrieved_doc['documents'][0]}\"},\n",
    "        {\"role\": \"user\", \"content\": query}\n",
    "    ]\n",
    ")"
   ]
  },
  {
   "cell_type": "code",
   "execution_count": null,
   "id": "b14a9386",
   "metadata": {},
   "outputs": [],
   "source": [
    "response"
   ]
  },
  {
   "cell_type": "code",
   "execution_count": null,
   "id": "66dbfaf5",
   "metadata": {},
   "outputs": [],
   "source": [
    "response.choices[0].message.content"
   ]
  },
  {
   "cell_type": "code",
   "execution_count": null,
   "id": "c809bdef",
   "metadata": {},
   "outputs": [],
   "source": []
  }
 ],
 "metadata": {
  "kernelspec": {
   "display_name": "inflearn-llm-application",
   "language": "python",
   "name": "python3"
  },
  "language_info": {
   "codemirror_mode": {
    "name": "ipython",
    "version": 3
   },
   "file_extension": ".py",
   "mimetype": "text/x-python",
   "name": "python",
   "nbconvert_exporter": "python",
   "pygments_lexer": "ipython3",
   "version": "3.10.18"
  }
 },
 "nbformat": 4,
 "nbformat_minor": 5
}
